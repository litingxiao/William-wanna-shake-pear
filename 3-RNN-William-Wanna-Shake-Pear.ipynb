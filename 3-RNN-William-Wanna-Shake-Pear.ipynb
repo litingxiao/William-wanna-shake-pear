{
 "cells": [
  {
   "cell_type": "markdown",
   "metadata": {},
   "source": [
    "# CS155 Project 3 - Shakespearean Sonnets: RNNs\n",
    "\n",
    "**Author:** Liting Xiao\n",
    "\n",
    "**Description:** this notebook trains RNNs to write parody poems of Shakespearean sonnets by training on a) all 154 Shakespearean sonnets in Section 2; b) both Shakespear's 154 poems and Edmund Spenser's Amoretti in Section 3.\n",
    "***\n",
    "\n",
    "And I name my Shakespearean poem-writing RNN to be \"William-wanna-shake-pear\".\n",
    "<br>\n",
    "<br>\n",
    "<div>\n",
    "<img src=\"figures/william-shakes-pear.jpg\" width=\"240\" align=\"left\"/>\n",
    "</div>"
   ]
  },
  {
   "cell_type": "code",
   "execution_count": 2,
   "metadata": {},
   "outputs": [],
   "source": [
    "import re\n",
    "import pickle\n",
    "import numpy as np\n",
    "import matplotlib.pyplot as plt\n",
    "import matplotlib\n",
    "matplotlib.rcParams.update({'font.size': 12})\n",
    "\n",
    "from keras.utils import to_categorical\n",
    "from keras.models import Sequential\n",
    "from keras.layers import Dense, LSTM, Lambda, Dropout\n",
    "from keras.utils.vis_utils import plot_model\n",
    "from keras.models import load_model\n",
    "from keras.preprocessing.sequence import pad_sequences"
   ]
  },
  {
   "cell_type": "markdown",
   "metadata": {},
   "source": [
    "### 1. Load Pre-processed Data"
   ]
  },
  {
   "cell_type": "code",
   "execution_count": 3,
   "metadata": {},
   "outputs": [],
   "source": [
    "# basic char-based datasets (40-char sequences) pre-processed from shakespeare.txt\n",
    "basic_char_seqs_vec = pickle.load(open(\"processed_data/basic_char_seqs_vec.p\", \"rb\"))\n",
    "basic_char2vec = pickle.load(open(\"processed_data/basic_char2vec.p\", \"rb\"))\n",
    "basic_vec2char = pickle.load(open(\"processed_data/basic_vec2char.p\", \"rb\"))"
   ]
  },
  {
   "cell_type": "code",
   "execution_count": 4,
   "metadata": {},
   "outputs": [],
   "source": [
    "# advanced word-based datasets (40-char sequences) pre-processed from shakespeare.txt and spenser.txt\n",
    "adv_char_seqs_vec = pickle.load(open(\"processed_data/adv_char_seqs_vec.p\", \"rb\"))\n",
    "adv_char2vec = pickle.load(open(\"processed_data/adv_char2vec.p\", \"rb\"))\n",
    "adv_vec2char = pickle.load(open(\"processed_data/adv_vec2char.p\", \"rb\"))"
   ]
  },
  {
   "cell_type": "markdown",
   "metadata": {},
   "source": [
    "### 2. Poetry Generation - Recurrent Neural Network (Naive)"
   ]
  },
  {
   "cell_type": "markdown",
   "metadata": {},
   "source": [
    "Generate training data (X, Y) with the right shapes as inputs to the model."
   ]
  },
  {
   "cell_type": "code",
   "execution_count": 5,
   "metadata": {},
   "outputs": [],
   "source": [
    "def gen_train_pair(char_seqs_vec, char2vec):\n",
    "    char_seqs_vec = np.array(char_seqs_vec)\n",
    "    x_seq, y_seq = char_seqs_vec[:, :-1], char_seqs_vec[:,-1]\n",
    "\n",
    "    X = np.array([to_categorical(x, num_classes=len(char2vec)) for x in x_seq])\n",
    "    Y = to_categorical(y_seq, num_classes=len(char2vec))\n",
    "    return X, Y"
   ]
  },
  {
   "cell_type": "code",
   "execution_count": 6,
   "metadata": {},
   "outputs": [],
   "source": [
    "basic_X, basic_Y = gen_train_pair(basic_char_seqs_vec, basic_char2vec)"
   ]
  },
  {
   "cell_type": "markdown",
   "metadata": {},
   "source": [
    "Define a simple model, consisting of 1 `LSTM` layer of 200 units and 1 `Dense` layer with `softmax` activation. "
   ]
  },
  {
   "cell_type": "code",
   "execution_count": 7,
   "metadata": {},
   "outputs": [
    {
     "name": "stdout",
     "output_type": "stream",
     "text": [
      "Model: \"sequential_1\"\n",
      "_________________________________________________________________\n",
      "Layer (type)                 Output Shape              Param #   \n",
      "=================================================================\n",
      "lstm_1 (LSTM)                (None, 200)               184000    \n",
      "_________________________________________________________________\n",
      "dense_1 (Dense)              (None, 29)                5829      \n",
      "=================================================================\n",
      "Total params: 189,829\n",
      "Trainable params: 189,829\n",
      "Non-trainable params: 0\n",
      "_________________________________________________________________\n"
     ]
    }
   ],
   "source": [
    "basic_hidden_size = 200\n",
    "basic_model = Sequential()\n",
    "basic_model.add(LSTM(basic_hidden_size, input_shape=(basic_X.shape[1], basic_X.shape[2])))\n",
    "basic_model.add(Dense(len(basic_char2vec), activation='softmax'))\n",
    "basic_model.compile(loss='categorical_crossentropy', optimizer='adam', metrics=['accuracy'])\n",
    "\n",
    "plot_model(basic_model, to_file='figures/basic_rnn_model.png', show_shapes=True)\n",
    "basic_model.summary()"
   ]
  },
  {
   "cell_type": "markdown",
   "metadata": {},
   "source": [
    "Train the model for 60 epochs or load trained model."
   ]
  },
  {
   "cell_type": "code",
   "execution_count": 8,
   "metadata": {},
   "outputs": [],
   "source": [
    "train_model = False\n",
    "\n",
    "# model training\n",
    "if train_model:\n",
    "    basic_model.fit(basic_X, basic_Y, batch_size=128, epochs=60)\n",
    "    basic_model.save('processed_data/basic_char_rnn.h5')\n",
    "\n",
    "# model loading if already trained\n",
    "else:\n",
    "    basic_model = load_model('processed_data/basic_char_rnn.h5')"
   ]
  },
  {
   "cell_type": "markdown",
   "metadata": {},
   "source": [
    "Add a `Lambda` layer to include a temperature param into the trained model for predictions."
   ]
  },
  {
   "cell_type": "code",
   "execution_count": 9,
   "metadata": {},
   "outputs": [],
   "source": [
    "def get_model_with_temp(model, hidden_size, X, char2vec, temperatures, mode):\n",
    "    # obtain model trained weights\n",
    "    model_weights = [layer.get_weights() for layer in model.layers]\n",
    "\n",
    "    # construct models with different temperatures\n",
    "    temp_models = []\n",
    "    for temp in temperatures:\n",
    "        if mode == 'basic':\n",
    "            # add the Lambda(temperature) layer between LSTM and Dense\n",
    "            m = Sequential([\n",
    "                LSTM(hidden_size, input_shape=(X.shape[1], X.shape[2])),\n",
    "                Lambda(lambda x: x / temp),\n",
    "                Dense(len(char2vec), activation='softmax')\n",
    "            ])\n",
    "            m.compile(loss='categorical_crossentropy', optimizer='adam', metrics=['accuracy'])\n",
    "\n",
    "            # assigned trained weights to the new temperature model\n",
    "            m.layers[0].set_weights(model_weights[0])\n",
    "            m.layers[2].set_weights(model_weights[1])\n",
    "\n",
    "            temp_models.append(m)\n",
    "\n",
    "        elif mode == 'adv':\n",
    "            m = Sequential([\n",
    "                LSTM(hidden_size, input_shape=(X.shape[1], X.shape[2]), return_sequences=True),\n",
    "                LSTM(hidden_size, return_sequences=True),\n",
    "                LSTM(hidden_size),\n",
    "                Lambda(lambda x: x / temp),\n",
    "                Dense(len(char2vec), activation='softmax')\n",
    "            ])\n",
    "            m.compile(loss='categorical_crossentropy', optimizer='adam', metrics=['accuracy'])\n",
    "            \n",
    "            # assigned trained weights to the new temperature model\n",
    "            for i in range(3):\n",
    "                m.layers[i].set_weights(model_weights[i*2])\n",
    "            m.layers[-1].set_weights(model_weights[-1])\n",
    "            \n",
    "            temp_models.append(m)\n",
    "            \n",
    "        else:\n",
    "            raise ValueError('Input should be either \"basic\" or \"adv\"')\n",
    "\n",
    "    return temp_models"
   ]
  },
  {
   "cell_type": "code",
   "execution_count": 10,
   "metadata": {},
   "outputs": [],
   "source": [
    "temperatures = [1.5, 0.75, 0.25]\n",
    "basic_temp_models = get_model_with_temp(basic_model, basic_hidden_size, basic_X, \n",
    "                                        basic_char2vec, temperatures, 'basic')"
   ]
  },
  {
   "cell_type": "markdown",
   "metadata": {},
   "source": [
    "Generate a Shakespearean sonnet with the seed \"*shall i compare thee to a summer's day*\"."
   ]
  },
  {
   "cell_type": "code",
   "execution_count": 11,
   "metadata": {},
   "outputs": [],
   "source": [
    "def gen_poem(m, char2vec, X, seed, seq_len, n_line=14):\n",
    "    \n",
    "    poem = [seed.capitalize()]\n",
    "    \n",
    "    # generate the rest of the poem starting with seed\n",
    "    for i in range(n_line-1):\n",
    "        \n",
    "        out_line = ''\n",
    "        for _ in range(seq_len[i]):\n",
    "            vecs = [char2vec[c] for c in seed]\n",
    "            vecs = pad_sequences([vecs], maxlen=X.shape[1])\n",
    "            vecs = to_categorical(vecs, num_classes=len(char2vec))\n",
    "            \n",
    "            # predict next vec\n",
    "            y = m.predict_classes(vecs)\n",
    "            \n",
    "            # map vec to char\n",
    "            for c, j in char2vec.items():\n",
    "                if j == y[0]:\n",
    "                    seed += c\n",
    "                    out_line += c\n",
    "                    break\n",
    "\n",
    "        # remove the last word to get rid of incomplete words\n",
    "        seed = ' '.join(seed.split(' ')[:-1])\n",
    "        out_line = ' '.join(out_line.split(' ')[:-1])\n",
    "        \n",
    "        # add to poem\n",
    "        poem.append(out_line.lstrip().capitalize())\n",
    "    \n",
    "    # print poem\n",
    "    for j, line in enumerate(poem):\n",
    "        words = line.split()\n",
    "        \n",
    "        # change 'i' into 'I' and 'o' into 'O'\n",
    "        for i, w in enumerate(words):\n",
    "            if w == 'i' or w == 'o':\n",
    "                words[i] = w.upper()\n",
    "        \n",
    "        # print the poem\n",
    "        if j % 4 != 0:\n",
    "            print('  ' + ' '.join(words))\n",
    "        else:\n",
    "            print(' '.join(words))\n",
    "        "
   ]
  },
  {
   "cell_type": "code",
   "execution_count": 12,
   "metadata": {},
   "outputs": [
    {
     "name": "stdout",
     "output_type": "stream",
     "text": [
      "For a temperature of 1.5, one generated poem is:\n",
      "================================================\n",
      "Shall I compare thee to a summer's day\n",
      "  Of you are to outin and for my self\n",
      "  Rosel and all my friend and your true\n",
      "  Love alane exes to the very was of hight\n",
      "Do I not for my self I spend all plack\n",
      "  Should do a lear that in the wrickle glacter\n",
      "  Tell come how I am for while in their\n",
      "  Putcons injures home and beauty looking\n",
      "When in your sweet self to be so thus did\n",
      "  The sime the deages ngrest and that beauty that I do\n",
      "  Cold concest of the tears that I\n",
      "  In other place or glasoul his\n",
      "With the trouning that the thought of\n",
      "  Hearts can beauty to the wirned some with\n",
      "\n",
      "For a temperature of 0.75, one generated poem is:\n",
      "================================================\n",
      "Shall I compare thee to a summer's day\n",
      "  Of you are to outin and for my self\n",
      "  Rosel and all my friend and your true\n",
      "  Love alane exes to the very was of hight\n",
      "Do I not for my self I spend all plack\n",
      "  Should do a lear that in the wrickle glacter\n",
      "  Tell come how I am for while in their put\n",
      "  Sweets with thoughts my love shall in my\n",
      "Verse as and and spire as you to the vise\n",
      "  Of worts do I honour his benunt in thee and love's\n",
      "  Love away thick my mistress\n",
      "  Weep-lime un hearts are dead\n",
      "So I love thee to the world will not be\n",
      "  The see all by that I may gazer should be\n",
      "\n",
      "For a temperature of 0.25, one generated poem is:\n",
      "================================================\n",
      "Shall I compare thee to a summer's day\n",
      "  Of you are to outin and for my self\n",
      "  Rosel and all my friend and your true\n",
      "  Love alane exes to the very was of hight\n",
      "Do I not for my self I spend all plack\n",
      "  Should do a leaves regue to be so true that is\n",
      "  Not for my self I spend what not in good\n",
      "  Fair cortone O that I am forsay despite\n",
      "Of soul is in my love say on appetit in\n",
      "  Our to this sing and praise be so I do not love thee\n",
      "  When I am despised who have whet\n",
      "  Of thee hast thou then love\n",
      "When I am seem so compare the still weter\n",
      "  Delight that I coly better for their\n",
      "\n"
     ]
    }
   ],
   "source": [
    "## choose a sequence length with some randomness\n",
    "# here the median sequence length is set to be 46 = 41 + 5, where\n",
    "# the extra 5 is a buffer to get rid of the last word (chars after the last ' ')\n",
    "med_seq_len = 40 + 5\n",
    "n_line = 14\n",
    "seq_len = np.random.normal(med_seq_len, 5, size=n_line)\n",
    "seq_len = [int(s) for s in seq_len]\n",
    "\n",
    "for i, temp in enumerate(temperatures):\n",
    "    print('For a temperature of {}, one generated poem is:'.format(temp))\n",
    "    print('================================================')\n",
    "    gen_poem(basic_temp_models[i], basic_char2vec, basic_X,\n",
    "             \"shall i compare thee to a summer's day\", seq_len, n_line=n_line)\n",
    "    print()"
   ]
  },
  {
   "cell_type": "markdown",
   "metadata": {},
   "source": [
    "### 3. Poetry Generation - RNN (Advanced)"
   ]
  },
  {
   "cell_type": "markdown",
   "metadata": {},
   "source": [
    "Train or load the advanced RNN model with 3 LSTM layers of 600 units."
   ]
  },
  {
   "cell_type": "code",
   "execution_count": 13,
   "metadata": {},
   "outputs": [
    {
     "name": "stdout",
     "output_type": "stream",
     "text": [
      "Model: \"sequential_1\"\n",
      "_________________________________________________________________\n",
      "Layer (type)                 Output Shape              Param #   \n",
      "=================================================================\n",
      "lstm_1 (LSTM)                (None, 40, 600)           1533600   \n",
      "_________________________________________________________________\n",
      "dropout_1 (Dropout)          (None, 40, 600)           0         \n",
      "_________________________________________________________________\n",
      "lstm_2 (LSTM)                (None, 40, 600)           2882400   \n",
      "_________________________________________________________________\n",
      "dropout_2 (Dropout)          (None, 40, 600)           0         \n",
      "_________________________________________________________________\n",
      "lstm_3 (LSTM)                (None, 600)               2882400   \n",
      "_________________________________________________________________\n",
      "dropout_3 (Dropout)          (None, 600)               0         \n",
      "_________________________________________________________________\n",
      "dense_1 (Dense)              (None, 38)                22838     \n",
      "=================================================================\n",
      "Total params: 7,321,238\n",
      "Trainable params: 7,321,238\n",
      "Non-trainable params: 0\n",
      "_________________________________________________________________\n"
     ]
    }
   ],
   "source": [
    "train_model = False\n",
    "\n",
    "adv_hidden_size = 600\n",
    "adv_X, adv_Y = gen_train_pair(adv_char_seqs_vec, adv_char2vec)\n",
    "\n",
    "# model training\n",
    "if train_model:\n",
    "    adv_model = Sequential([\n",
    "        LSTM(adv_hidden_size, input_shape=(adv_X.shape[1], adv_X.shape[2]), return_sequences=True),\n",
    "        Dropout(0.2),\n",
    "        LSTM(adv_hidden_size, return_sequences=True),\n",
    "        Dropout(0.2),\n",
    "        LSTM(adv_hidden_size),\n",
    "        Dropout(0.2),\n",
    "        Dense(len(adv_char2vec), activation='softmax')\n",
    "    ])\n",
    "    adv_model.compile(loss='categorical_crossentropy', optimizer='adam', metrics=['accuracy'])\n",
    "\n",
    "    plot_model(adv_model, to_file='processed_data/adv_rnn_model.png', show_shapes=True)\n",
    "    adv_model.summary()\n",
    "    \n",
    "    adv_model.fit(adv_X, adv_Y, batch_size=128, epochs=40)\n",
    "    adv_model.save('processed_data/adv_char_rnn.h5')\n",
    "\n",
    "# model loading if already trained\n",
    "else:\n",
    "    adv_model = load_model('processed_data/adv_char_rnn.h5')\n",
    "    adv_model.summary()"
   ]
  },
  {
   "cell_type": "code",
   "execution_count": 14,
   "metadata": {},
   "outputs": [],
   "source": [
    "adv_temp_models = get_model_with_temp(adv_model, adv_hidden_size, adv_X, \n",
    "                                      adv_char2vec, temperatures, 'adv')"
   ]
  },
  {
   "cell_type": "code",
   "execution_count": 15,
   "metadata": {},
   "outputs": [],
   "source": [
    "def gen_poem_adv(m, char2vec, X, seed, max_char=800):\n",
    "    # generate max_char number of chars from seed\n",
    "    for _ in range(max_char):\n",
    "        vecs = [char2vec[c] for c in seed]\n",
    "        vecs = pad_sequences([vecs], maxlen=X.shape[1])\n",
    "        vecs = to_categorical(vecs, num_classes=len(char2vec))\n",
    "\n",
    "        # predict next vec\n",
    "        y = m.predict_classes(vecs)\n",
    "\n",
    "        # map vec to char\n",
    "        for c, j in char2vec.items():\n",
    "            if j == y[0]:\n",
    "                seed += c\n",
    "                break\n",
    "        \n",
    "    # generate poem of 14 lines\n",
    "    poem = []\n",
    "    str_split = re.split('(?<=[!?,.;:]) +', seed)\n",
    "    for i, s in enumerate(str_split):\n",
    "        if i == 0:\n",
    "            poem.append((s + '\\n').capitalize())\n",
    "        else:\n",
    "            if len(poem[-1]) > 20:\n",
    "                if len(s) > 20:\n",
    "                    poem.append((s + '\\n').capitalize())\n",
    "                else:\n",
    "                    poem.append((s + ' ').capitalize())\n",
    "            else:\n",
    "                poem[-1] += (s + '\\n')\n",
    "    \n",
    "    # formatting\n",
    "    for i in range(14):\n",
    "        if i % 4 != 0:\n",
    "            poem[i] = '  ' + poem[i]\n",
    "        if i == 13:    \n",
    "            poem[i] = '  ' + poem[i][:-2] + '.'\n",
    "    \n",
    "    print(''.join(poem[:14]))"
   ]
  },
  {
   "cell_type": "markdown",
   "metadata": {},
   "source": [
    "Generate 3 poems with a temperature of 0.75 using different seeds with this advanced RNN model."
   ]
  },
  {
   "cell_type": "code",
   "execution_count": 16,
   "metadata": {},
   "outputs": [
    {
     "name": "stdout",
     "output_type": "stream",
     "text": [
      "Great was the glory then gained in the fight.\n",
      "  'tis thee (my self) no motion show what wealth,\n",
      "  Some seem so true, in vainted compound with the stormy part.\n",
      "  With light thereof i do myself that i in many dear delight,\n",
      "The dost be mind the better part of me,\n",
      "  So thou previge the sun,\n",
      "  For they shall i most ore,\n",
      "  And the firm soil win of the world,\n",
      "Unbless some mother.   Present the time with thoughts canst move,\n",
      "  And i am still with thee,\n",
      "  When thou from thee that said i could not the greater scath,\n",
      "Through sweet illusion of her look's delight.\n",
      "    Therefore i lie with her.\n"
     ]
    }
   ],
   "source": [
    "gen_poem_adv(adv_temp_models[1], adv_char2vec, adv_X,\n",
    "             \"great was the glory then gained in the fight.\")"
   ]
  },
  {
   "cell_type": "code",
   "execution_count": 17,
   "metadata": {},
   "outputs": [
    {
     "name": "stdout",
     "output_type": "stream",
     "text": [
      "Then the powerful king put to the test,\n",
      "  Both soul doth say thy show,\n",
      "  The worst of worth the words of weather ere:\n",
      "  And with the crow of well of thine to make thy large will more.\n",
      "Let no unkind, no fair beseechers kill,\n",
      "  Though rosy lips and lovely yief.\n",
      "  Her wratk doth bind the heartost simple fair,\n",
      "  That eyes can see! take heed (dear heart) of this large privilege,\n",
      "And she with meek heart doth please all seeing,\n",
      "  Or all alone, and look and moan,\n",
      "  She is no woman, but senseless stone.\n",
      "  But when i plead, she bids me play my part,\n",
      "And when i weep, in all alone,\n",
      "    That he with meeks but best to be.\n"
     ]
    }
   ],
   "source": [
    "gen_poem_adv(adv_temp_models[1], adv_char2vec, adv_X,\n",
    "             \"then the powerful king put to the test,\")"
   ]
  },
  {
   "cell_type": "code",
   "execution_count": 18,
   "metadata": {},
   "outputs": [
    {
     "name": "stdout",
     "output_type": "stream",
     "text": [
      "My robe is noiseless when i roam the earth,\n",
      "  Which her fair child expire,\n",
      "  Shall to a baser made,\n",
      "  And soon to temper that my wit cannot endite.\n",
      "When suddenly with thine eye but with thy time decays?\n",
      "  O fearful meditation,\n",
      "  Where alack, shall time's best jewel will be took,\n",
      "  And they that skill not of the world's fresh care,\n",
      "And me for me than shortune your self still,\n",
      "  And therefore to be seen so thy great growing age,\n",
      "  A dearer birth than thine eyes seem so.\n",
      "  If it be not, the which three times thrice haply hath me,\n",
      "Suffine in them shall still will play the tyrant,\n",
      "    The which beholding me with melancholy.\n"
     ]
    }
   ],
   "source": [
    "gen_poem_adv(adv_temp_models[1], adv_char2vec, adv_X,\n",
    "             \"my robe is noiseless when i roam the earth,\")"
   ]
  },
  {
   "cell_type": "markdown",
   "metadata": {},
   "source": [
    "***\n",
    "### Viola! \n",
    "\n",
    "If this AI could really think, I believe its mood would be like this: \n",
    "\n",
    "<br>\n",
    "<div>\n",
    "<img src=\"figures/ai-mood-on-this.png\" width=\"240\" align=\"left\"/>\n",
    "</div>"
   ]
  }
 ],
 "metadata": {
  "kernelspec": {
   "display_name": "Python 3",
   "language": "python",
   "name": "python3"
  },
  "language_info": {
   "codemirror_mode": {
    "name": "ipython",
    "version": 3
   },
   "file_extension": ".py",
   "mimetype": "text/x-python",
   "name": "python",
   "nbconvert_exporter": "python",
   "pygments_lexer": "ipython3",
   "version": "3.7.4"
  }
 },
 "nbformat": 4,
 "nbformat_minor": 2
}
